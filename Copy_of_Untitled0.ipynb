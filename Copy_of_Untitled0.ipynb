{
  "nbformat": 4,
  "nbformat_minor": 0,
  "metadata": {
    "colab": {
      "provenance": [],
      "authorship_tag": "ABX9TyMyPHXUSQtdtuCoUEGZejxv",
      "include_colab_link": true
    },
    "kernelspec": {
      "name": "python3",
      "display_name": "Python 3"
    },
    "language_info": {
      "name": "python"
    }
  },
  "cells": [
    {
      "cell_type": "markdown",
      "metadata": {
        "id": "view-in-github",
        "colab_type": "text"
      },
      "source": [
        "<a href=\"https://colab.research.google.com/github/07068287270/07068287270/blob/main/Copy_of_Untitled0.ipynb\" target=\"_parent\"><img src=\"https://colab.research.google.com/assets/colab-badge.svg\" alt=\"Open In Colab\"/></a>"
      ]
    },
    {
      "cell_type": "code",
      "execution_count": null,
      "metadata": {
        "id": "o5T6kbmDoWjV"
      },
      "outputs": [],
      "source": []
    },
    {
      "cell_type": "markdown",
      "source": [
        "Variable datasets"
      ],
      "metadata": {
        "id": "bLimUfhkoc31"
      }
    },
    {
      "cell_type": "code",
      "source": [
        "#create the variable\n",
        "Var1 ='Mimi'\n",
        "Var2 ='Nan'"
      ],
      "metadata": {
        "id": "6MdlEuLpokzS"
      },
      "execution_count": null,
      "outputs": []
    }
  ]
}